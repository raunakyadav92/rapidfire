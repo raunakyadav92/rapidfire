{
  "nbformat": 4,
  "nbformat_minor": 0,
  "metadata": {
    "colab": {
      "provenance": [],
      "authorship_tag": "ABX9TyNb+obK0JTL7A5j5FxKnTCN",
      "include_colab_link": true
    },
    "kernelspec": {
      "name": "python3",
      "display_name": "Python 3"
    },
    "language_info": {
      "name": "python"
    }
  },
  "cells": [
    {
      "cell_type": "markdown",
      "metadata": {
        "id": "view-in-github",
        "colab_type": "text"
      },
      "source": [
        "<a href=\"https://colab.research.google.com/github/raunakyadav92/rapidfire/blob/main/rapidfire.ipynb\" target=\"_parent\"><img src=\"https://colab.research.google.com/assets/colab-badge.svg\" alt=\"Open In Colab\"/></a>"
      ]
    },
    {
      "cell_type": "code",
      "execution_count": null,
      "metadata": {
        "id": "48KWaj1N-cgQ"
      },
      "outputs": [],
      "source": [
        "import time\n",
        "import random\n",
        "\n",
        "questions = [\n",
        "    {\"q\": \"What is 5 + 3?\", \"a\": \"8\"},\n",
        "    {\"q\": \"Name the capital of India.\", \"a\": \"New Delhi\"},\n",
        "    {\"q\": \"What is the shortcut for 'Copy'?\", \"a\": \"Ctrl + C\"},\n",
        "    {\"q\": \"Python is developed by?\", \"a\": \"Guido van Rossum\"},\n",
        "    {\"q\": \"What is H2O commonly known as?\", \"a\": \"Water\"}\n",
        "]\n",
        "\n",
        "def rapid_fire_quiz():\n",
        "    print(\"\\n=== 🔥 LearnLoop Rapid Fire Quiz ===\\n\")\n",
        "    score = 0\n",
        "    time_limit = 5  # seconds\n",
        "\n",
        "    random.shuffle(questions)\n",
        "\n",
        "    for q in questions:\n",
        "        print(f\"⏰ You have {time_limit} seconds!\")\n",
        "        print(f\"🤔 Question: {q['q']}\")\n",
        "        start_time = time.time()\n",
        "        answer = input(\"Your Answer: \")\n",
        "        elapsed_time = time.time() - start_time\n",
        "\n",
        "        if elapsed_time > time_limit:\n",
        "            print(\"⏳ Time's up! ❌\\n\")\n",
        "        elif answer.strip().lower() == q[\"a\"].lower():\n",
        "            print(\"✅ Correct! Fast and Smart!\\n\")\n",
        "            score += 1\n",
        "        else:\n",
        "            print(f\"❌ Wrong! Correct Answer: {q['a']}\\n\")\n",
        "\n",
        "    print(f\"🎯 Your Final Score: {score}/{len(questions)}\")\n",
        "    print(\"Thanks for playing Rapid Fire! ⚡\")\n",
        "\n",
        "if __name__ == \"__main__\":\n",
        "    rapid_fire_quiz()\n"
      ]
    }
  ]
}
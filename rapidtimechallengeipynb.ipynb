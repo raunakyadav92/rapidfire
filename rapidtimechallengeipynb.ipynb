{
  "nbformat": 4,
  "nbformat_minor": 0,
  "metadata": {
    "colab": {
      "provenance": [],
      "authorship_tag": "ABX9TyOMiZEPwbLzp1K0QZBAlc8H",
      "include_colab_link": true
    },
    "kernelspec": {
      "name": "python3",
      "display_name": "Python 3"
    },
    "language_info": {
      "name": "python"
    }
  },
  "cells": [
    {
      "cell_type": "markdown",
      "metadata": {
        "id": "view-in-github",
        "colab_type": "text"
      },
      "source": [
        "<a href=\"https://colab.research.google.com/github/raunakyadav92/rapidfire/blob/main/rapidtimechallengeipynb.ipynb\" target=\"_parent\"><img src=\"https://colab.research.google.com/assets/colab-badge.svg\" alt=\"Open In Colab\"/></a>"
      ]
    },
    {
      "cell_type": "code",
      "execution_count": null,
      "metadata": {
        "id": "G7L3_--0ADQQ"
      },
      "outputs": [],
      "source": [
        "import random\n",
        "import time\n",
        "\n",
        "def time_challenge_game():\n",
        "    print(\"\\n=== ⏰ LearnLoop Rapid Time Challenge ===\\n\")\n",
        "\n",
        "    questions = [\n",
        "        {\"q\": \"What is 5 + 3?\", \"a\": \"8\"},\n",
        "        {\"q\": \"How many hours are in a day?\", \"a\": \"24\"},\n",
        "        {\"q\": \"What is the capital of France?\", \"a\": \"paris\"},\n",
        "        {\"q\": \"What color is a banana?\", \"a\": \"yellow\"},\n",
        "        {\"q\": \"2 x 6 = ?\", \"a\": \"12\"}\n",
        "    ]\n",
        "\n",
        "    score = 0\n",
        "    time_limit = 5  # seconds\n",
        "\n",
        "    for q in random.sample(questions, len(questions)):\n",
        "        print(f\"\\n⏳ You have {time_limit} seconds to answer!\")\n",
        "        print(f\"❓ {q['q']}\")\n",
        "\n",
        "        start = time.time()\n",
        "        answer = input(\"Your Answer: \").strip().lower()\n",
        "        elapsed = time.time() - start\n",
        "\n",
        "        if elapsed > time_limit:\n",
        "            print(\"⏰ Time's up! ❌\")\n",
        "        elif answer == q[\"a\"]:\n",
        "            print(\"✅ Correct! Fast and Smart!\")\n",
        "            score += 1\n",
        "        else:\n",
        "            print(f\"❌ Wrong! The correct answer was: {q['a'].title()}\")\n",
        "\n",
        "    print(f\"\\n🎯 Final Score: {score}/{len(questions)}\")\n",
        "    print(\"Thanks for playing LearnLoop Time Challenge!\")\n",
        "\n",
        "if __name__ == \"__main__\":\n",
        "    time_challenge_game()\n"
      ]
    }
  ]
}